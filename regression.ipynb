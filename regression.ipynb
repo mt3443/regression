{
 "cells": [
  {
   "cell_type": "markdown",
   "metadata": {},
   "source": [
    "## EECS 731 Project 4: Regression\n",
    "### by Matthew Taylor"
   ]
  },
  {
   "cell_type": "markdown",
   "metadata": {},
   "source": [
    "### Import required modules"
   ]
  },
  {
   "cell_type": "code",
   "execution_count": 1,
   "metadata": {},
   "outputs": [],
   "source": [
    "import pandas as pd\n",
    "from sklearn.linear_model import LinearRegression\n",
    "from sklearn.ensemble import RandomForestRegressor\n",
    "from sklearn.model_selection import train_test_split"
   ]
  },
  {
   "cell_type": "markdown",
   "metadata": {},
   "source": [
    "### Load datasets\n",
    "The first dataframe contains a mapping between team names and team identifiers, as well as initial Elo ratings. The second contains a history of NFL games and final scores."
   ]
  },
  {
   "cell_type": "code",
   "execution_count": 2,
   "metadata": {},
   "outputs": [],
   "source": [
    "initial_elos = pd.read_csv('data/initial_elos.csv')\n",
    "nfl_games = pd.read_csv('data/nfl_games.csv')"
   ]
  },
  {
   "cell_type": "code",
   "execution_count": 3,
   "metadata": {},
   "outputs": [
    {
     "data": {
      "text/html": [
       "<div>\n",
       "<style scoped>\n",
       "    .dataframe tbody tr th:only-of-type {\n",
       "        vertical-align: middle;\n",
       "    }\n",
       "\n",
       "    .dataframe tbody tr th {\n",
       "        vertical-align: top;\n",
       "    }\n",
       "\n",
       "    .dataframe thead th {\n",
       "        text-align: right;\n",
       "    }\n",
       "</style>\n",
       "<table border=\"1\" class=\"dataframe\">\n",
       "  <thead>\n",
       "    <tr style=\"text-align: right;\">\n",
       "      <th></th>\n",
       "      <th>team</th>\n",
       "      <th>elo</th>\n",
       "    </tr>\n",
       "  </thead>\n",
       "  <tbody>\n",
       "    <tr>\n",
       "      <th>0</th>\n",
       "      <td>RII</td>\n",
       "      <td>1503.947</td>\n",
       "    </tr>\n",
       "    <tr>\n",
       "      <th>1</th>\n",
       "      <td>STP</td>\n",
       "      <td>1300.000</td>\n",
       "    </tr>\n",
       "    <tr>\n",
       "      <th>2</th>\n",
       "      <td>BFF</td>\n",
       "      <td>1478.004</td>\n",
       "    </tr>\n",
       "    <tr>\n",
       "      <th>3</th>\n",
       "      <td>WBU</td>\n",
       "      <td>1300.000</td>\n",
       "    </tr>\n",
       "    <tr>\n",
       "      <th>4</th>\n",
       "      <td>RCH</td>\n",
       "      <td>1503.420</td>\n",
       "    </tr>\n",
       "  </tbody>\n",
       "</table>\n",
       "</div>"
      ],
      "text/plain": [
       "  team       elo\n",
       "0  RII  1503.947\n",
       "1  STP  1300.000\n",
       "2  BFF  1478.004\n",
       "3  WBU  1300.000\n",
       "4  RCH  1503.420"
      ]
     },
     "execution_count": 3,
     "metadata": {},
     "output_type": "execute_result"
    }
   ],
   "source": [
    "# The 'initial_elos' datasets contains team abbreviation encodings through integer indices\n",
    "\n",
    "initial_elos.head()"
   ]
  },
  {
   "cell_type": "code",
   "execution_count": 4,
   "metadata": {},
   "outputs": [
    {
     "data": {
      "text/html": [
       "<div>\n",
       "<style scoped>\n",
       "    .dataframe tbody tr th:only-of-type {\n",
       "        vertical-align: middle;\n",
       "    }\n",
       "\n",
       "    .dataframe tbody tr th {\n",
       "        vertical-align: top;\n",
       "    }\n",
       "\n",
       "    .dataframe thead th {\n",
       "        text-align: right;\n",
       "    }\n",
       "</style>\n",
       "<table border=\"1\" class=\"dataframe\">\n",
       "  <thead>\n",
       "    <tr style=\"text-align: right;\">\n",
       "      <th></th>\n",
       "      <th>date</th>\n",
       "      <th>season</th>\n",
       "      <th>neutral</th>\n",
       "      <th>playoff</th>\n",
       "      <th>team1</th>\n",
       "      <th>team2</th>\n",
       "      <th>elo1</th>\n",
       "      <th>elo2</th>\n",
       "      <th>elo_prob1</th>\n",
       "      <th>score1</th>\n",
       "      <th>score2</th>\n",
       "      <th>result1</th>\n",
       "    </tr>\n",
       "  </thead>\n",
       "  <tbody>\n",
       "    <tr>\n",
       "      <th>0</th>\n",
       "      <td>1920-09-26</td>\n",
       "      <td>1920</td>\n",
       "      <td>0</td>\n",
       "      <td>0</td>\n",
       "      <td>RII</td>\n",
       "      <td>STP</td>\n",
       "      <td>1503.947</td>\n",
       "      <td>1300.000</td>\n",
       "      <td>0.824651</td>\n",
       "      <td>48</td>\n",
       "      <td>0</td>\n",
       "      <td>1.0</td>\n",
       "    </tr>\n",
       "    <tr>\n",
       "      <th>1</th>\n",
       "      <td>1920-10-03</td>\n",
       "      <td>1920</td>\n",
       "      <td>0</td>\n",
       "      <td>0</td>\n",
       "      <td>AKR</td>\n",
       "      <td>WHE</td>\n",
       "      <td>1503.420</td>\n",
       "      <td>1300.000</td>\n",
       "      <td>0.824212</td>\n",
       "      <td>43</td>\n",
       "      <td>0</td>\n",
       "      <td>1.0</td>\n",
       "    </tr>\n",
       "    <tr>\n",
       "      <th>2</th>\n",
       "      <td>1920-10-03</td>\n",
       "      <td>1920</td>\n",
       "      <td>0</td>\n",
       "      <td>0</td>\n",
       "      <td>RCH</td>\n",
       "      <td>ABU</td>\n",
       "      <td>1503.420</td>\n",
       "      <td>1300.000</td>\n",
       "      <td>0.824212</td>\n",
       "      <td>10</td>\n",
       "      <td>0</td>\n",
       "      <td>1.0</td>\n",
       "    </tr>\n",
       "    <tr>\n",
       "      <th>3</th>\n",
       "      <td>1920-10-03</td>\n",
       "      <td>1920</td>\n",
       "      <td>0</td>\n",
       "      <td>0</td>\n",
       "      <td>DAY</td>\n",
       "      <td>COL</td>\n",
       "      <td>1493.002</td>\n",
       "      <td>1504.908</td>\n",
       "      <td>0.575819</td>\n",
       "      <td>14</td>\n",
       "      <td>0</td>\n",
       "      <td>1.0</td>\n",
       "    </tr>\n",
       "    <tr>\n",
       "      <th>4</th>\n",
       "      <td>1920-10-03</td>\n",
       "      <td>1920</td>\n",
       "      <td>0</td>\n",
       "      <td>0</td>\n",
       "      <td>RII</td>\n",
       "      <td>MUN</td>\n",
       "      <td>1516.108</td>\n",
       "      <td>1478.004</td>\n",
       "      <td>0.644171</td>\n",
       "      <td>45</td>\n",
       "      <td>0</td>\n",
       "      <td>1.0</td>\n",
       "    </tr>\n",
       "  </tbody>\n",
       "</table>\n",
       "</div>"
      ],
      "text/plain": [
       "         date  season  neutral  playoff team1 team2      elo1      elo2  \\\n",
       "0  1920-09-26    1920        0        0   RII   STP  1503.947  1300.000   \n",
       "1  1920-10-03    1920        0        0   AKR   WHE  1503.420  1300.000   \n",
       "2  1920-10-03    1920        0        0   RCH   ABU  1503.420  1300.000   \n",
       "3  1920-10-03    1920        0        0   DAY   COL  1493.002  1504.908   \n",
       "4  1920-10-03    1920        0        0   RII   MUN  1516.108  1478.004   \n",
       "\n",
       "   elo_prob1  score1  score2  result1  \n",
       "0   0.824651      48       0      1.0  \n",
       "1   0.824212      43       0      1.0  \n",
       "2   0.824212      10       0      1.0  \n",
       "3   0.575819      14       0      1.0  \n",
       "4   0.644171      45       0      1.0  "
      ]
     },
     "execution_count": 4,
     "metadata": {},
     "output_type": "execute_result"
    }
   ],
   "source": [
    "# A majority of the data is already numerical, which simplifies data preparation\n",
    "\n",
    "nfl_games.head()"
   ]
  },
  {
   "cell_type": "markdown",
   "metadata": {},
   "source": [
    "### Data Preparation\n",
    "The feature engineering in this project is rather simple. I replace the team names in the second dataframe with their numerical IDs from the first dataframe. Then I break up the date column into multiple parts. The reason behind this is to capture any trends that teams may experience. For instance, teams may have a good season, or a good string of games, or what have you."
   ]
  },
  {
   "cell_type": "code",
   "execution_count": 5,
   "metadata": {},
   "outputs": [
    {
     "data": {
      "text/html": [
       "<div>\n",
       "<style scoped>\n",
       "    .dataframe tbody tr th:only-of-type {\n",
       "        vertical-align: middle;\n",
       "    }\n",
       "\n",
       "    .dataframe tbody tr th {\n",
       "        vertical-align: top;\n",
       "    }\n",
       "\n",
       "    .dataframe thead th {\n",
       "        text-align: right;\n",
       "    }\n",
       "</style>\n",
       "<table border=\"1\" class=\"dataframe\">\n",
       "  <thead>\n",
       "    <tr style=\"text-align: right;\">\n",
       "      <th></th>\n",
       "      <th>year</th>\n",
       "      <th>month</th>\n",
       "      <th>day</th>\n",
       "      <th>season</th>\n",
       "      <th>neutral</th>\n",
       "      <th>playoff</th>\n",
       "      <th>team1_id</th>\n",
       "      <th>team2_id</th>\n",
       "      <th>elo1</th>\n",
       "      <th>elo2</th>\n",
       "      <th>elo_prob1</th>\n",
       "      <th>score1</th>\n",
       "      <th>score2</th>\n",
       "      <th>result1</th>\n",
       "    </tr>\n",
       "  </thead>\n",
       "  <tbody>\n",
       "    <tr>\n",
       "      <th>0</th>\n",
       "      <td>1920</td>\n",
       "      <td>09</td>\n",
       "      <td>26</td>\n",
       "      <td>1920</td>\n",
       "      <td>0</td>\n",
       "      <td>0</td>\n",
       "      <td>0</td>\n",
       "      <td>1</td>\n",
       "      <td>1503.947</td>\n",
       "      <td>1300.000</td>\n",
       "      <td>0.824651</td>\n",
       "      <td>48</td>\n",
       "      <td>0</td>\n",
       "      <td>1.0</td>\n",
       "    </tr>\n",
       "    <tr>\n",
       "      <th>1</th>\n",
       "      <td>1920</td>\n",
       "      <td>10</td>\n",
       "      <td>03</td>\n",
       "      <td>1920</td>\n",
       "      <td>0</td>\n",
       "      <td>0</td>\n",
       "      <td>13</td>\n",
       "      <td>14</td>\n",
       "      <td>1503.420</td>\n",
       "      <td>1300.000</td>\n",
       "      <td>0.824212</td>\n",
       "      <td>43</td>\n",
       "      <td>0</td>\n",
       "      <td>1.0</td>\n",
       "    </tr>\n",
       "    <tr>\n",
       "      <th>2</th>\n",
       "      <td>1920</td>\n",
       "      <td>10</td>\n",
       "      <td>03</td>\n",
       "      <td>1920</td>\n",
       "      <td>0</td>\n",
       "      <td>0</td>\n",
       "      <td>4</td>\n",
       "      <td>5</td>\n",
       "      <td>1503.420</td>\n",
       "      <td>1300.000</td>\n",
       "      <td>0.824212</td>\n",
       "      <td>10</td>\n",
       "      <td>0</td>\n",
       "      <td>1.0</td>\n",
       "    </tr>\n",
       "    <tr>\n",
       "      <th>3</th>\n",
       "      <td>1920</td>\n",
       "      <td>10</td>\n",
       "      <td>03</td>\n",
       "      <td>1920</td>\n",
       "      <td>0</td>\n",
       "      <td>0</td>\n",
       "      <td>6</td>\n",
       "      <td>7</td>\n",
       "      <td>1493.002</td>\n",
       "      <td>1504.908</td>\n",
       "      <td>0.575819</td>\n",
       "      <td>14</td>\n",
       "      <td>0</td>\n",
       "      <td>1.0</td>\n",
       "    </tr>\n",
       "    <tr>\n",
       "      <th>4</th>\n",
       "      <td>1920</td>\n",
       "      <td>10</td>\n",
       "      <td>03</td>\n",
       "      <td>1920</td>\n",
       "      <td>0</td>\n",
       "      <td>0</td>\n",
       "      <td>0</td>\n",
       "      <td>8</td>\n",
       "      <td>1516.108</td>\n",
       "      <td>1478.004</td>\n",
       "      <td>0.644171</td>\n",
       "      <td>45</td>\n",
       "      <td>0</td>\n",
       "      <td>1.0</td>\n",
       "    </tr>\n",
       "  </tbody>\n",
       "</table>\n",
       "</div>"
      ],
      "text/plain": [
       "   year month day  season  neutral  playoff  team1_id  team2_id      elo1  \\\n",
       "0  1920    09  26    1920        0        0         0         1  1503.947   \n",
       "1  1920    10  03    1920        0        0        13        14  1503.420   \n",
       "2  1920    10  03    1920        0        0         4         5  1503.420   \n",
       "3  1920    10  03    1920        0        0         6         7  1493.002   \n",
       "4  1920    10  03    1920        0        0         0         8  1516.108   \n",
       "\n",
       "       elo2  elo_prob1  score1  score2  result1  \n",
       "0  1300.000   0.824651      48       0      1.0  \n",
       "1  1300.000   0.824212      43       0      1.0  \n",
       "2  1300.000   0.824212      10       0      1.0  \n",
       "3  1504.908   0.575819      14       0      1.0  \n",
       "4  1478.004   0.644171      45       0      1.0  "
      ]
     },
     "execution_count": 5,
     "metadata": {},
     "output_type": "execute_result"
    }
   ],
   "source": [
    "years = []\n",
    "months = []\n",
    "days = []\n",
    "\n",
    "team1_ids = []\n",
    "team2_ids = []\n",
    "\n",
    "for index, row in nfl_games.iterrows():\n",
    "    # Break date column up into three separate columns\n",
    "    date = row.date.split('-')\n",
    "    \n",
    "    years.append(date[0])\n",
    "    months.append(date[1])\n",
    "    days.append(date[2])\n",
    "    \n",
    "    # Replace team abbreviations with integer IDs\n",
    "    team1_ids.append(initial_elos.index[initial_elos['team'] == row['team1']].values[0])\n",
    "    team2_ids.append(initial_elos.index[initial_elos['team'] == row['team2']].values[0])\n",
    "    \n",
    "# Add new columns to the dataframe\n",
    "nfl_games.insert(1, 'year', years)\n",
    "nfl_games.insert(2, 'month', months)\n",
    "nfl_games.insert(3, 'day', days)\n",
    "nfl_games.insert(9, 'team1_id', team1_ids)\n",
    "nfl_games.insert(10, 'team2_id', team2_ids)\n",
    "\n",
    "# Remove unwanted columns\n",
    "nfl_games = nfl_games.drop(columns=['date', 'team1', 'team2'])\n",
    "\n",
    "# Inspect resulting dataframe to verify data preparation steps\n",
    "nfl_games.head()"
   ]
  },
  {
   "cell_type": "markdown",
   "metadata": {},
   "source": [
    "### Train-Test Split\n",
    "I perform an 80/20 train/test split on the data. This allows me to both create the model and gauge its accuracy. For this project, I must create two regression models, one to predict the score of each team."
   ]
  },
  {
   "cell_type": "code",
   "execution_count": 6,
   "metadata": {},
   "outputs": [],
   "source": [
    "# Separate the data into two types, training and testing (80/20)\n",
    "# two outputs are required to predict the score of each team\n",
    "# since each regression model can only produce one result\n",
    "\n",
    "input_columns = nfl_games[['year', 'month', 'day', 'season', 'neutral', 'playoff', 'team1_id', 'team2_id', 'elo1', 'elo2', 'elo_prob1', 'result1']].values\n",
    "output_columns1 = nfl_games['score1'].values\n",
    "output_columns2 = nfl_games['score2'].values\n",
    "\n",
    "train_input,   test_input   = train_test_split(input_columns, test_size=0.2, random_state=0)\n",
    "train_output1, test_output1 = train_test_split(output_columns1, test_size=0.2, random_state=0)\n",
    "train_output2, test_output2 = train_test_split(output_columns2, test_size=0.2, random_state=0)"
   ]
  },
  {
   "cell_type": "markdown",
   "metadata": {},
   "source": [
    "### Linear Regression\n",
    "Now that the data is ready, I can begin training models. I start with simple linear regression models. The linear models have an average score-prediction accuracy of about 36%. At first, this figure may seem underwhelming. However, it's crucially important to remember what these models are truly predicting. They aren't predicting which team wins the game. Rather, they are predicting the final scores of each team, which is far more challenging. The fact that these models can correctly predict the final score of these games this often is astounding."
   ]
  },
  {
   "cell_type": "code",
   "execution_count": 7,
   "metadata": {},
   "outputs": [],
   "source": [
    "# Train linear regression model\n",
    "\n",
    "lr1 = LinearRegression().fit(train_input, train_output1)\n",
    "lr2 = LinearRegression().fit(train_input, train_output2)"
   ]
  },
  {
   "cell_type": "code",
   "execution_count": 8,
   "metadata": {
    "scrolled": true
   },
   "outputs": [
    {
     "name": "stdout",
     "output_type": "stream",
     "text": [
      "Team 1 scores correctly predicted 34.29% of the time\n",
      "Team 2 scores correctly predicted 37.69% of the time\n",
      "\n",
      "Scores correctly predicted an average of 35.99% of the time\n"
     ]
    }
   ],
   "source": [
    "# Score linear regression model\n",
    "\n",
    "lr1_score = round(lr1.score(test_input, test_output1) * 100, 2)\n",
    "lr2_score = round(lr2.score(test_input, test_output2) * 100, 2)\n",
    "lr_average = round((lr1_score + lr2_score) / 2, 2)\n",
    "\n",
    "print('Team 1 scores correctly predicted {}% of the time'.format(lr1_score))\n",
    "print('Team 2 scores correctly predicted {}% of the time\\n'.format(lr2_score))\n",
    "print('Scores correctly predicted an average of {}% of the time'.format(lr_average))"
   ]
  },
  {
   "cell_type": "markdown",
   "metadata": {},
   "source": [
    "### Random Forest Regressor\n",
    "To see just how high we can get the prediction accuracy, I decided to implement random forest regressors as well. These models are slightly more sophisticated than the previous models, so the results should be more impressive. Sure enough, the prediction accuracy was around 2% higher than the previous models (both the linear regression and random forest models used the same training and testing data)."
   ]
  },
  {
   "cell_type": "code",
   "execution_count": 9,
   "metadata": {},
   "outputs": [],
   "source": [
    "# Train random forest\n",
    "\n",
    "rf1 = RandomForestRegressor(n_estimators=100, random_state=0).fit(train_input, train_output1)\n",
    "rf2 = RandomForestRegressor(n_estimators=100, random_state=0).fit(train_input, train_output2)"
   ]
  },
  {
   "cell_type": "code",
   "execution_count": 10,
   "metadata": {},
   "outputs": [
    {
     "name": "stdout",
     "output_type": "stream",
     "text": [
      "Team 1 scores correctly predicted 36.13% of the time\n",
      "Team 2 scores correctly predicted 40.51% of the time\n",
      "\n",
      "Scores correctly predicted an average of 38.32% of the time\n"
     ]
    }
   ],
   "source": [
    "# Test random forest\n",
    "\n",
    "rf1_score = round(rf1.score(test_input, test_output1) * 100, 2)\n",
    "rf2_score = round(rf2.score(test_input, test_output2) * 100, 2)\n",
    "rf_average = round((rf1_score + rf2_score) / 2, 2)\n",
    "\n",
    "print('Team 1 scores correctly predicted {}% of the time'.format(rf1_score))\n",
    "print('Team 2 scores correctly predicted {}% of the time\\n'.format(rf2_score))\n",
    "print('Scores correctly predicted an average of {}% of the time'.format(rf_average))"
   ]
  },
  {
   "cell_type": "markdown",
   "metadata": {},
   "source": [
    "### Footnote\n",
    "To ensure the models weren't simply predicting the scores to be zero for every game, as is common in some machine learning applications, I calculated the percentage of games in the testing set that had a score of zero on either team. Surprisingly, the fraction of games which ended with one team having a score of zero was far smaller than the percentage of correctly predicted scores. This further supports the accuracy of the models created here."
   ]
  },
  {
   "cell_type": "code",
   "execution_count": 11,
   "metadata": {},
   "outputs": [
    {
     "name": "stdout",
     "output_type": "stream",
     "text": [
      "8.51% of games in the test set ended with when one team had a score of 0\n"
     ]
    }
   ],
   "source": [
    "n_zeros = 0\n",
    "\n",
    "for i in range(len(test_output1)):\n",
    "    if test_output1[i] == 0 or test_output2[i] == 0:\n",
    "        n_zeros += 1\n",
    "\n",
    "p_zeros = round(n_zeros / len(test_output1) * 100, 2)\n",
    "\n",
    "print('{}% of games in the test set ended with when one team had a score of 0'.format(p_zeros))"
   ]
  }
 ],
 "metadata": {
  "kernelspec": {
   "display_name": "Python 3",
   "language": "python",
   "name": "python3"
  },
  "language_info": {
   "codemirror_mode": {
    "name": "ipython",
    "version": 3
   },
   "file_extension": ".py",
   "mimetype": "text/x-python",
   "name": "python",
   "nbconvert_exporter": "python",
   "pygments_lexer": "ipython3",
   "version": "3.7.2"
  }
 },
 "nbformat": 4,
 "nbformat_minor": 2
}
